{
  "nbformat": 4,
  "nbformat_minor": 0,
  "metadata": {
    "colab": {
      "private_outputs": true,
      "provenance": []
    },
    "kernelspec": {
      "name": "python3",
      "display_name": "Python 3"
    },
    "language_info": {
      "name": "python"
    }
  },
  "cells": [
    {
      "cell_type": "code",
      "source": [
        "!git remote add origin git@github.com:gprakash/supplychaingraph.git\n",
        "#git branch -M main\n",
        "#git push -u origin main"
      ],
      "metadata": {
        "id": "rOjYE4fCWNmc"
      },
      "execution_count": null,
      "outputs": []
    },
    {
      "cell_type": "code",
      "source": [
        "!pip install -q langchain\n",
        "!pip install -q google-cloud-aiplatform>=1.35.0\n",
        "!pip install -q neo4j\n",
        "!pip install -q --upgrade gradio\n",
        "!pip install -q --upgrade typing_extensions"
      ],
      "metadata": {
        "id": "DEiRX_2Yb0fM"
      },
      "execution_count": null,
      "outputs": []
    },
    {
      "cell_type": "code",
      "source": [
        "\n",
        "#@title Setting up the Auth\n",
        "import os\n",
        "\n",
        "#Authentication with Google\n",
        "import sys\n",
        "if \"google.colab\" in sys.modules:\n",
        "    from google.colab import auth as google_auth\n",
        "    google_auth.authenticate_user()\n",
        "\n",
        "import gradio as gr"
      ],
      "metadata": {
        "id": "TyIUgaIccLi1"
      },
      "execution_count": null,
      "outputs": []
    },
    {
      "cell_type": "code",
      "source": [
        "from langchain.chat_models import ChatVertexAI\n",
        "from langchain.chains import GraphCypherQAChain\n",
        "from langchain.graphs import Neo4jGraph\n",
        "from langchain.llms import VertexAI\n",
        "from langchain.prompts.prompt import PromptTemplate\n",
        "\n",
        "\n",
        "from google.cloud import aiplatform\n",
        "print(f\"Vertex AI SDK version: {aiplatform.__version__}\")\n",
        "\n",
        "# Initialize Vertex AI SDK\n",
        "import vertexai"
      ],
      "metadata": {
        "id": "0fNasI_TbfEo"
      },
      "execution_count": null,
      "outputs": []
    },
    {
      "cell_type": "code",
      "source": [
        "vertexai.init(project=\"argolis-project-340214\")\n",
        "# %%\n",
        "\n",
        "llm = VertexAI()\n",
        "print(llm(\"What is the future of supply chain in an LLM world?\"))"
      ],
      "metadata": {
        "id": "q_apM8o9b-__"
      },
      "execution_count": null,
      "outputs": []
    },
    {
      "cell_type": "code",
      "source": [
        "\n",
        "from neo4j import GraphDatabase"
      ],
      "metadata": {
        "id": "Ly-_mHTFmFld"
      },
      "execution_count": null,
      "outputs": []
    },
    {
      "cell_type": "code",
      "source": [
        "#import getpass\n",
        "\n",
        "# You will need to change these variables\n",
        "connectionUrl = \"bolt://34.173.213.251:7687\"\n",
        "username = \"neo4j\"\n",
        "password = \"password\""
      ],
      "metadata": {
        "id": "QXtqCQxhmNGd"
      },
      "execution_count": null,
      "outputs": []
    },
    {
      "cell_type": "code",
      "source": [
        "# You will need to change these variables\n",
        "connectionUrl = \"neo4j+s://f28aa3c1.databases.neo4j.io:7687\"\n",
        "username = \"neo4j\"\n",
        "password = \"BAZuPrEv4CexTEzucDbJt019MuwfX91kVWv1lRaGNcA\""
      ],
      "metadata": {
        "id": "pjZ5wfnUUB92"
      },
      "execution_count": null,
      "outputs": []
    },
    {
      "cell_type": "code",
      "source": [
        "driver = GraphDatabase.driver(connectionUrl, auth=(username, password))\n",
        "driver.verify_connectivity()"
      ],
      "metadata": {
        "id": "ai-j1lErmqgA"
      },
      "execution_count": null,
      "outputs": []
    },
    {
      "cell_type": "code",
      "source": [
        "import pandas as pd\n",
        "def run_query(query, params={}):\n",
        "    with driver.session() as session:\n",
        "        result = session.run(query, params)\n",
        "        return pd.DataFrame([r.values() for r in result], columns=result.keys())"
      ],
      "metadata": {
        "id": "Rzg6ZugvmzS6"
      },
      "execution_count": null,
      "outputs": []
    },
    {
      "cell_type": "code",
      "source": [
        "run_query(\"match (n:Location) return n.locationKey\")"
      ],
      "metadata": {
        "id": "RkXWa23Um0tj"
      },
      "execution_count": null,
      "outputs": []
    },
    {
      "cell_type": "code",
      "source": [
        "run_query(\"match (n) return labels(n) as label, properties(n) as properties\")"
      ],
      "metadata": {
        "id": "tlD1ioPdPOFU"
      },
      "execution_count": null,
      "outputs": []
    },
    {
      "cell_type": "code",
      "source": [
        "graph = Neo4jGraph(\n",
        "    url=connectionUrl, username=username, password=password\n",
        ")"
      ],
      "metadata": {
        "id": "Wh54FtfEezOm"
      },
      "execution_count": null,
      "outputs": []
    },
    {
      "cell_type": "code",
      "source": [
        "chain = GraphCypherQAChain.from_llm(\n",
        "    llm, graph=graph, verbose=True\n",
        ")"
      ],
      "metadata": {
        "id": "vX3toBfc9e6I"
      },
      "execution_count": null,
      "outputs": []
    },
    {
      "cell_type": "code",
      "source": [
        "CYPHER_GENERATION_TEMPLATE = \"\"\"Task:Generate Cypher statement to query a graph database.\n",
        "Instructions:\n",
        "Use only the provided relationship types and properties in the schema.\n",
        "Do not use any other relationship types or properties that are not provided.\n",
        "Schema:\n",
        "{schema}\n",
        "Note: Do not include any explanations or apologies in your responses.\n",
        "Do not respond to any questions that might ask anything else than for you to construct a Cypher statement.\n",
        "Do not include any text except the generated Cypher statement.\n",
        "Examples: Here are a few examples of generated Cypher statements for particular questions:\n",
        "# What are all the parent items and where are they produced?\n",
        "MATCH (il:ItemLocation)-[:CONTAINS]->(:ItemLocation) where NOT (:ItemLocation)-[:CONTAINS]->(il)\n",
        "MATCH (il)-[:MADE_AT]-(l:Location)\n",
        "RETURN distinct il.itemNumber AS parentItem, l.locationDescription AS productionLocation\n",
        "# What products does the Seattle supplier make?\n",
        "MATCH (il)-[:MADE_AT]-(l:Location)\n",
        "WHERE l.locationDescription contains 'Seattle'\n",
        "RETURN il.itemNumber\n",
        "# Name all suppliers for Transmission?\n",
        "MATCH (il)-[:MADE_AT]->(l:Location)\n",
        "WHERE il.itemNumber contains 'Transmission'\n",
        "RETURN l.locationDescription\n",
        "# Name all suppliers for Engines?\n",
        "MATCH (il)-[:MADE_AT]->(l:Location)\n",
        "WHERE il.itemNumber contains 'Engine'\n",
        "RETURN l.locationDescription\n",
        "# Name all the suppliers for the WV plant\n",
        "MATCH (plant:Location)<-[:MADE_AT]-(parentItemLocation:ItemLocation)-[:CONTAINS]->(childItemLocation:ItemLocation)-[:MADE_AT]->(supp:Location)\n",
        "WHERE plant.locationDescription contains 'WV'\n",
        "RETURN supp.locationId\n",
        "# Name all the suppliers for the Xdock\n",
        "MATCH (plant:Location)<-[:MADE_AT]-(parentItemLocation:ItemLocation)-[:CONTAINS]->(childItemLocation:ItemLocation)-[:MADE_AT]->(supp:Location)\n",
        "WHERE plant.locationDescription contains 'XDock' or plant.locationDescription contains 'Xdock'\n",
        "RETURN supp.locationId\n",
        "# What products does Guduvan supply\n",
        "MATCH (supplier:Location)-[:MAKES]->(i:Item)\n",
        "WHERE supplier.locationId contains 'Guduvan'\n",
        "RETURN i.itemNumber, i.itemDescription, i.itemIndicator\n",
        "# Name all suppliers of StoresDC and their corresponding items\n",
        "MATCH (l:Location)<-[:MADE_AT]-(il:ItemLocation)-[:CONTAINS]->(child:ItemLocation)-[MADE_AT]->(supp:Location) where l.locationDescription contains 'StoresDC'\n",
        "RETURN supp.locationId, child.itemNumber\n",
        "# How many units of Cups do I need to make 1 unit of Body Bra at StoresDC\n",
        "match p=(top:ItemLocation)-[:CONTAINS*1..9]->(child:ItemLocation), q=(top)-[:MADE_AT]->(l:Location) where top.itemLocationDescription contains 'BodyBra' and l.locationDescription contains 'StoresDC' and child.itemLocationDescription contains 'cups'\n",
        "return reduce(LineageQty = 1, y in relationships(p)| LineageQty *  toInteger(y.quantity)) as LineageQty\n",
        "# Name all the suppliers of Fabric for the DirectDC\n",
        "MATCH (destination:Location)<-[:MADE_AT]-(parent:ItemLocation)-[:CONTAINS]->(child:ItemLocation)-[:MADE_AT]->(source:Location)\n",
        "WHERE child.itemLocationDescription contains 'Fabric' AND destination.locationDescription contains 'DirectDC'\n",
        "RETURN distinct source.locationId\n",
        "The question is:\n",
        "{question}\"\"\"\n",
        "\n",
        "\n",
        "CYPHER_GENERATION_PROMPT = PromptTemplate(\n",
        "    input_variables=[\"schema\", \"question\"], template=CYPHER_GENERATION_TEMPLATE\n",
        ")\n",
        "\n",
        "chain = GraphCypherQAChain.from_llm(\n",
        "    ChatVertexAI(temperature=0), graph=graph, verbose=True, cypher_prompt=CYPHER_GENERATION_PROMPT\n",
        ")"
      ],
      "metadata": {
        "id": "VCctvmbmJcZO"
      },
      "execution_count": null,
      "outputs": []
    },
    {
      "cell_type": "code",
      "source": [
        "!pip install graphistry"
      ],
      "metadata": {
        "id": "Kdpa9b3e7oVm"
      },
      "execution_count": null,
      "outputs": []
    },
    {
      "cell_type": "code",
      "source": [
        "dir(graphistry)"
      ],
      "metadata": {
        "id": "H76-LAuVFanr"
      },
      "execution_count": null,
      "outputs": []
    },
    {
      "cell_type": "code",
      "source": [
        "import graphistry\n",
        "GRAPHISTRY_API_KEY='R4YK24YSU3SVUFRI'\n",
        "#graphistry.register(api=3, username='abc', password='xyz')  # Free: hub.graphistry.com\n",
        "graphistry.register(api=3, personal_key_id='ZKJQM2BSNK', personal_key_secret=GRAPHISTRY_API_KEY)\n",
        "NEO4J_CREDS = {'uri': connectionUrl, 'auth': (username, password)}\n",
        "graphistry.register(bolt=NEO4J_CREDS)\n",
        "graphistry.cypher(\"MATCH (n1)-[r1]->(n2) RETURN n1, r1, n2 LIMIT 1000\").plot()\n",
        "import plotly.graph_objects as go\n",
        "fig = go.Figure()\n"
      ],
      "metadata": {
        "id": "VBFveRAR7yOK"
      },
      "execution_count": null,
      "outputs": []
    },
    {
      "cell_type": "code",
      "source": [
        "chain.run(\"What are all the parent items and where are they produced?\")"
      ],
      "metadata": {
        "id": "0pjqHbl19s60"
      },
      "execution_count": null,
      "outputs": []
    },
    {
      "cell_type": "code",
      "source": [
        "chain.run(\"What all locations are there?\")"
      ],
      "metadata": {
        "id": "IUacCnkKIHsj"
      },
      "execution_count": null,
      "outputs": []
    },
    {
      "cell_type": "code",
      "source": [
        "chain.run(\"What all itemlocations are there for the itemgoverning system SAP2 and print the list of item Location Descriptions?\")"
      ],
      "metadata": {
        "id": "rKGy981V_Ytj"
      },
      "execution_count": null,
      "outputs": []
    },
    {
      "cell_type": "code",
      "source": [
        "chain.run(\"What all top level items are being produced and where\")"
      ],
      "metadata": {
        "id": "ebzBx7qgAjuF"
      },
      "execution_count": null,
      "outputs": []
    },
    {
      "cell_type": "code",
      "source": [
        "chain.run(\"What products does the Seattle supplier make\")"
      ],
      "metadata": {
        "id": "GygJIFm2Xz8g"
      },
      "execution_count": null,
      "outputs": []
    },
    {
      "cell_type": "code",
      "source": [
        "chain.run(\"What products does Stretch Fabrics make\")"
      ],
      "metadata": {
        "id": "ttGUnkmeSwhW"
      },
      "execution_count": null,
      "outputs": []
    },
    {
      "cell_type": "code",
      "source": [
        "chain.run(\"Name all the suppliers for Fabric\")"
      ],
      "metadata": {
        "id": "mRUwS2J81MqR"
      },
      "execution_count": null,
      "outputs": []
    },
    {
      "cell_type": "code",
      "source": [
        "#chain.run(\"Name all the suppliers for the WV plant\")\n",
        "chain.run(\"Name all the suppliers for the Xdock\")"
      ],
      "metadata": {
        "id": "exC7bbgC2_QT"
      },
      "execution_count": null,
      "outputs": []
    },
    {
      "cell_type": "code",
      "source": [
        "#chain.run(\"Name all the suppliers of Engines for the WV plant\")\n",
        "chain.run(\"Name all the suppliers of Fabric for the DirectDC\")"
      ],
      "metadata": {
        "id": "9V-PKw3d5hiE"
      },
      "execution_count": null,
      "outputs": []
    },
    {
      "cell_type": "code",
      "source": [
        "\n",
        "def chatbot(inputtext):\n",
        "    return chain.run(inputtext)\n",
        "\n",
        "\n",
        "iface = gr.Interface(fn=chatbot,\n",
        "                      examples=[\n",
        "#                               \"Name all the suppliers for the WV plant\",\n",
        "#                               \"Name all the suppliers for Engines\",\n",
        "#                               \"Name all the suppliers of Engines for the WV plant\",\n",
        "#                               \"What all top level items are being produced and where\",\n",
        "                               \"Name all the suppliers for the Xdock\",\n",
        "                               \"Name all the suppliers for StoresDC\",\n",
        "                               \"Name all the suppliers for DirectDC and their corresponding items\",\n",
        "                               \"Name all the suppliers of Fabric for the DirectDC\",\n",
        "                               \"What all top level items are being produced and where\",\n",
        "                              \"How many units of Cups do I need to make 1 unit of Body Bra at DirectDC\"],\n",
        "                      title=\"Victoria's Secret: Supply Chain Analyst\",\n",
        "                      inputs=gr.Textbox(),\n",
        "                      outputs=[gr.Textbox()])\n",
        "\n",
        "iface.launch(debug=True)\n",
        "\n"
      ],
      "metadata": {
        "id": "bLMDzKMw5NOw"
      },
      "execution_count": null,
      "outputs": []
    },
    {
      "cell_type": "code",
      "source": [
        "graph.refresh_schema()"
      ],
      "metadata": {
        "id": "Tri0cyrv-lCt"
      },
      "execution_count": null,
      "outputs": []
    },
    {
      "cell_type": "code",
      "source": [
        "!pip install --quiet --upgrade graphdatascience==1.0.0"
      ],
      "metadata": {
        "id": "4jfwWFxrO3vx"
      },
      "execution_count": null,
      "outputs": []
    },
    {
      "cell_type": "code",
      "source": [
        "import pandas as pd\n",
        "from graphdatascience import GraphDataScience\n",
        "\n",
        "# If you are connecting the client to an AuraDS instance, you can get the recommended non-default configuration settings of the Python Driver applied automatically. To achieve this, set the constructor argument aura_ds=True\n",
        "gds = GraphDataScience(connectionUrl, auth=(username, password), aura_ds=True)\n",
        "\n",
        "gds.set_database(\"neo4j\")"
      ],
      "metadata": {
        "id": "4P0MmLzTNXuf"
      },
      "execution_count": null,
      "outputs": []
    },
    {
      "cell_type": "code",
      "source": [
        "\n",
        "# node labels\n",
        "result = gds.run_cypher(\n",
        "    \"\"\"\n",
        "CALL db.labels() YIELD label\n",
        "CALL apoc.cypher.run('MATCH (:`'+label+'`) RETURN count(*) as freq', {})\n",
        "YIELD value\n",
        "RETURN label, value.freq AS freq\n",
        "\"\"\"\n",
        ")\n",
        "\n",
        "display(result)\n",
        "\n",
        "#print(graph.schema)"
      ],
      "metadata": {
        "id": "cvFoE__P-pQ4"
      },
      "execution_count": null,
      "outputs": []
    },
    {
      "cell_type": "code",
      "source": [
        "\n",
        "with gr.Blocks() as demo:\n",
        "  with gr.Row():\n",
        "    gr.Markdown(\n",
        "    \"\"\"\n",
        "    # Victoria's Secret - Multi-Tier Supply Network Model Questions\n",
        "    Provide the query about your supply chain model\n",
        "    \"\"\")\n",
        "\n",
        "  with gr.Row():\n",
        "    with gr.Column():\n",
        "      Query = gr.Textbox(label = \"Type your query here\")\n",
        "      examples = [\"What all top level items are being produced and where\",\"What all locations are there?\",\"What all itemlocations are there for the itemgoverning system SAP2 and print the list of item Location Descriptions?\",]\n",
        "      ExampleQueries = gr.Examples(examples=examples, inputs=Query)\n",
        "      getLLMResponse_btn = gr.Button(\"Get LLM Response\")\n",
        "\n",
        "  with gr.Row():\n",
        "    with gr.Column():\n",
        "      LLMResponse = gr.Textbox(label = \"LLM Response\")\n",
        "\n",
        "\n",
        "    getLLMResponse_btn.click(fn=chain.run, inputs=Query, outputs=LLMResponse)\n",
        "\n",
        "app = demo.app\n",
        "\n",
        "demo.launch(debug=True)\n"
      ],
      "metadata": {
        "id": "7aT3X4AxS03b"
      },
      "execution_count": null,
      "outputs": []
    },
    {
      "cell_type": "code",
      "source": [
        "%pip install yfiles_jupyter_graphs --quiet\n",
        "try:\n",
        "  import google.colab\n",
        "  from google.colab import output\n",
        "  output.enable_custom_widget_manager()\n",
        "except:\n",
        "  pass"
      ],
      "metadata": {
        "id": "Y8AB8tya298l"
      },
      "execution_count": null,
      "outputs": []
    },
    {
      "cell_type": "code",
      "source": [
        "from yfiles_jupyter_graphs import GraphWidget\n",
        "w = GraphWidget()\n",
        "w.nodes = [\n",
        "    {\"id\": 0, \"properties\": {\"firstName\": \"Alpha\", \"label\": \"Person A\"}},\n",
        "    {\"id\": \"one\", \"properties\": {\"firstName\": \"Bravo\", \"label\": \"Person B\"}},\n",
        "    {\"id\": 2.0, \"properties\": {\"firstName\": \"Charlie\", \"label\": \"Person C\", \"has_hat\": False}},\n",
        "    {\"id\": True, \"properties\": {\"firstName\": \"Delta\", \"label\": \"Person D\", \"likes_pizza\": True}}\n",
        "]\n",
        "w.edges = [\n",
        "    {\"id\": \"zero\", \"start\": 0, \"end\": \"one\", \"properties\": {\"since\": \"1992\", \"label\": \"knows\"}},\n",
        "    {\"id\": 1, \"start\": \"one\", \"end\": True, \"properties\": {\"label\": \"knows\", \"since\": \"1992\"}},\n",
        "    {\"id\": 2.0, \"start\": 2.0, \"end\": True, \"properties\": {\"label\": \"knows\", \"since\": \"1992\"}},\n",
        "    {\"id\": False, \"start\": 0, \"end\": 2.0, \"properties\": {\"label\": \"knows\", \"since\": 234}}\n",
        "]\n",
        "\n",
        "w.nodes =\n",
        "w.directed = True"
      ],
      "metadata": {
        "id": "UdlMc0LG3Gna"
      },
      "execution_count": null,
      "outputs": []
    },
    {
      "cell_type": "code",
      "source": [
        "w.show()  # or just w\n"
      ],
      "metadata": {
        "id": "D1w0hpAT3Ofk"
      },
      "execution_count": null,
      "outputs": []
    },
    {
      "cell_type": "code",
      "source": [
        "df = run_query(\"call apoc.meta.data()\")\n",
        "print(df)"
      ],
      "metadata": {
        "id": "eEp3NdbWKncX"
      },
      "execution_count": null,
      "outputs": []
    },
    {
      "cell_type": "code",
      "source": [
        "from py2neo import Graph\n",
        "from pandas import DataFrame\n",
        "# remove search by au.id='1' and limit so that you will get all\n",
        "# return the id in your query\n",
        "session = Graph(connectionUrl, auth=(username, password))\n",
        "query = '''  MATCH (il)-[:MADE_AT]-(l:Location)  RETURN il '''\n",
        "# access the result data\n",
        "result = session.run(query)\n",
        "#df = run_query(query)\n",
        "# convert result into pandas dataframe\n",
        "df = DataFrame(result)\n",
        "df.head()"
      ],
      "metadata": {
        "id": "ZXTvqPmYS2nz"
      },
      "execution_count": null,
      "outputs": []
    },
    {
      "cell_type": "code",
      "source": [
        "#!pip install json2table\n",
        "import json2table\n",
        "import json\n",
        "from json2table import convert\n",
        "newdf = parse(df[0])\n",
        "print(newdf)\n",
        "\n",
        "html=convert(df[0])\n",
        "print(html)"
      ],
      "metadata": {
        "id": "WnXf01uwVtkd"
      },
      "execution_count": null,
      "outputs": []
    }
  ]
}
